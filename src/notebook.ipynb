{
 "cells": [
  {
   "cell_type": "markdown",
   "metadata": {},
   "source": [
    "# Sudeste Module 3 Exam\n",
    "\n",
    "### Instructions\n",
    "Modify this notebook to compose your model. You may use additional `.py` files within this folder, `src/` for composing your framework.\n",
    "\n",
    "It is discouraged to rename the `notebook.ipynb` for this particular task."
   ]
  },
  {
   "cell_type": "markdown",
   "metadata": {},
   "source": [
    "<div style=\"background-color: #f7f7f7; border: 1px solid #e1e1e1; border-radius: 5px; padding: 15px; max-width: 400px;\">\n",
    "    <h2 style=\"color: #333333; font-family: Arial, sans-serif;\">Submitted by Group 6</h2>\n",
    "    <ul style=\"color: #555555; font-family: Arial, sans-serif; font-size: 16px;\">\n",
    "        <li>Aguaviva, Christopher</li>\n",
    "        <li>Baluyot, Kent Ryan</li>\n",
    "        <li>Berida, Ronabelle</li>\n",
    "    </ul>\n",
    "</div>\n"
   ]
  },
  {
   "cell_type": "markdown",
   "metadata": {},
   "source": [
    "### <span style=\"color:Orange;\">  Table of Contents: </span>\n",
    "\n",
    "I.    [Executive Summary](#summary)\n",
    "\n",
    "II.   [Problem Statement](#problem)\n",
    "\n",
    "III.  [Objective](#objective)\n",
    "\n",
    "IV.   [Data Cleaning](#datacleaning)\n",
    "\n",
    "V.    [Visualizations and EDA](#eda)\n",
    "\n",
    "VI.   [ARIMA Model](#arima)\n",
    "\n",
    "VII.  [Deep Learning Model](#dl)\n",
    "  \n",
    "VIII. [Comparison](#comparison)\n",
    "\n",
    "IX.   [Conclusion and Recommendations](#conclusion)\n",
    "\n",
    "***"
   ]
  },
  {
   "cell_type": "markdown",
   "metadata": {},
   "source": [
    "## <span style=\"color:Orange;\"> I. Executive Summary </span>  <a name=\"summary\"></a>\n",
    "`edit contents`"
   ]
  },
  {
   "cell_type": "markdown",
   "metadata": {},
   "source": [
    "## <span style=\"color:Orange;\"> II. Problem Statement </span>  <a name=\"problem\"></a>  \n",
    "`edit contents`"
   ]
  },
  {
   "cell_type": "markdown",
   "metadata": {},
   "source": [
    "## <span style=\"color:Orange;\"> III. Objective </span>  <a name=\"objective\"></a>  \n",
    "`edit contents`"
   ]
  },
  {
   "cell_type": "markdown",
   "metadata": {},
   "source": [
    "## <span style=\"color:Orange;\"> IV. Data Cleaning </span>  <a name=\"datacleaning\"></a>  "
   ]
  },
  {
   "cell_type": "markdown",
   "metadata": {},
   "source": [
    "Importing Modules"
   ]
  },
  {
   "cell_type": "code",
   "execution_count": null,
   "metadata": {},
   "outputs": [],
   "source": [
    "import os\n",
    "import numpy as np\n",
    "import pandas as pd\n",
    "import seaborn as sns\n",
    "import scipy.stats as stats\n",
    "import matplotlib.pyplot as plt\n",
    "import tensorflow as tf\n",
    "\n",
    "from statsmodels.tsa.arima.model import ARIMA\n",
    "from sklearn.metrics import mean_squared_error\n",
    "from sklearn.model_selection import train_test_split\n",
    "from sklearn.preprocessing import StandardScaler, LabelEncoder, MinMaxScaler\n",
    "from tensorflow.keras.callbacks import LearningRateScheduler, ReduceLROnPlateau\n",
    "from mlxtend.plotting import plot_confusion_matrix\n",
    "from sklearn.metrics import confusion_matrix\n",
    "from sklearn.utils import shuffle\n",
    "#from datetime import datetime\n",
    "\n",
    "pd.set_option('display.max_columns', 40)   # displays max columns of the DataFrame "
   ]
  },
  {
   "cell_type": "markdown",
   "metadata": {},
   "source": [
    "## <span style=\"color:Orange;\"> V. Visualizations and EDA </span>  <a name=\"eda\"></a>  "
   ]
  },
  {
   "cell_type": "code",
   "execution_count": null,
   "metadata": {},
   "outputs": [],
   "source": []
  },
  {
   "cell_type": "markdown",
   "metadata": {},
   "source": [
    "## <span style=\"color:Orange;\"> VI. ARIMA Model </span>  <a name=\"arima\"></a>  \n",
    "`edit contents`"
   ]
  },
  {
   "cell_type": "code",
   "execution_count": null,
   "metadata": {},
   "outputs": [],
   "source": []
  },
  {
   "cell_type": "markdown",
   "metadata": {},
   "source": [
    "## <span style=\"color:Orange;\"> VII. Deep Learning Model </span>  <a name=\"dl\"></a>  \n",
    "`edit contents`"
   ]
  },
  {
   "cell_type": "code",
   "execution_count": null,
   "metadata": {},
   "outputs": [],
   "source": []
  },
  {
   "cell_type": "markdown",
   "metadata": {},
   "source": [
    "## <span style=\"color:Orange;\"> VIII. Comparison </span>  <a name=\"comparison\"></a>  \n",
    "<i> Comparison between the results of the two specified models: ARIMA and Deep Learning Models, and assessing which model performs better in <b> Predicting and Classification </b> </i>  \n",
    "\n"
   ]
  },
  {
   "cell_type": "markdown",
   "metadata": {},
   "source": [
    "## <span style=\"color:Orange;\"> IX. Conclusion and Recommendation </span> <a name=\"conclusion\"></a>  \n",
    "`edit contents`"
   ]
  }
 ],
 "metadata": {
  "language_info": {
   "name": "python"
  }
 },
 "nbformat": 4,
 "nbformat_minor": 2
}
